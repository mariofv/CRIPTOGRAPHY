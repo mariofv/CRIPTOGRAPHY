{
 "cells": [
  {
   "cell_type": "code",
   "execution_count": 9,
   "metadata": {
    "deletable": true,
    "editable": true
   },
   "outputs": [
   ],
   "source": [
    "import hashlib\n",
    "import binascii"
   ]
  },
  {
   "cell_type": "code",
   "execution_count": 7,
   "metadata": {
    "deletable": true,
    "editable": true
   },
   "outputs": [
    {
     "data": {
      "text/plain": [
       "['7d19b963765bc61a80ce59fcf5312a70da5f29555d4f1f3db8e17064d5f06368',\n",
       " '7d19b963765bc61a80ce59fcf5312a70da5f29555d4f1f3db8e17064d5f06368']"
      ]
     },
     "execution_count": 7,
     "metadata": {
     },
     "output_type": "execute_result"
    }
   ],
   "source": [
    "# Extracts m and hashes with SHA256\n",
    "\n",
    "mSHA256HexFile = open(\"mSHA256.hex\")\n",
    "mSHA256Hex = mSHA256HexFile.read()\n",
    "\n",
    "mSHA256Hex2='7d19b963765bc61a80ce59fcf5312a70da5f29555d4f1f3db8e17064d5f06368'\n",
    "mSHA256 = int(mSHA256Hex, 16)\n",
    "[mSHA256Hex,mSHA256Hex2]"
   ]
  },
  {
   "cell_type": "code",
   "execution_count": 10,
   "metadata": {
    "deletable": true,
    "editable": true
   },
   "outputs": [
    {
     "name": "stdout",
     "output_type": "stream",
     "text": [
      "0x4b8a6075e591af79c317137c956788bb8f51ce5bcefac8fad42f2ebb3288c914L\n",
      "0x6b1560224c24a335c4f31f8cdeea3592059998e5e46584f4e75c1922b3317319L\n"
     ]
    }
   ],
   "source": [
    "# Extracció de la signatura\n",
    "\n",
    "signatureFile = open(\"signature.bin\", \"rb\")\n",
    "signature = bytearray(signatureFile.read())\n",
    "\n",
    "f1 = signature[4:36]\n",
    "f2 = signature[38:70]\n",
    "\n",
    "f1 = int(binascii.hexlify(f1), 16)\n",
    "f2 = int(binascii.hexlify(f2), 16)\n",
    "print(hex(f1))\n",
    "print(hex(f2))"
   ]
  },
  {
   "cell_type": "code",
   "execution_count": 11,
   "metadata": {
    "deletable": true,
    "editable": true
   },
   "outputs": [
   ],
   "source": [
    "# Parametres corba eliptica\n",
    "\n",
    "p = 115792089210356248762697446949407573530086143415290314195533631308867097853951\n",
    "q = 115792089210356248762697446949407573529996955224135760342422259061068512044369\n",
    "\n",
    "a = -3\n",
    "b = 0x5ac635d8aa3a93e7b3ebbd55769886bc651d06b0cc53b0f63bce3c3e27d2604b"
   ]
  },
  {
   "cell_type": "code",
   "execution_count": 12,
   "metadata": {
    "deletable": true,
    "editable": true
   },
   "outputs": [
   ],
   "source": [
    "# Punt P\n",
    "\n",
    "Px = 0x6b17d1f2e12c4247f8bce6e563a440f277037d812deb33a0f4a13945d898c296\n",
    "Py = 0x4fe342e2fe1a7f9b8ee7eb4a7c0f9e162bce33576b315ececbb6406837bf51f5"
   ]
  },
  {
   "cell_type": "code",
   "execution_count": 13,
   "metadata": {
    "deletable": true,
    "editable": true
   },
   "outputs": [
    {
     "name": "stdout",
     "output_type": "stream",
     "text": [
      "0x1feff43a11a0d0c8f1614ec405a892e10cdf86a49fa847d6ad5bad1d94317bc0L\n",
      "0xe6eee862411893e2ef279abe430952c8e095e6ae585317aadc990641ea06f389L\n"
     ]
    }
   ],
   "source": [
    "# Punt Q\n",
    "\n",
    "certificatePubKeyFile = open(\"certificatePubKey.bin\", \"rb\")\n",
    "certificatePubKey = bytearray(certificatePubKeyFile.read())\n",
    "\n",
    "qCoordByteLen = (len(certificatePubKey) - 1)//2\n",
    "\n",
    "Qx = certificatePubKey[1:qCoordByteLen + 1]\n",
    "Qy = certificatePubKey[qCoordByteLen + 1: 2*qCoordByteLen + 1]\n",
    "\n",
    "Qx = int(binascii.hexlify(Qx), 16)\n",
    "Qy = int(binascii.hexlify(Qy), 16)\n",
    "\n",
    "#print(hex(certificatePubKey))\n",
    "print(hex(Qx))\n",
    "print(hex(Qy))"
   ]
  },
  {
   "cell_type": "code",
   "execution_count": 14,
   "metadata": {
    "deletable": true,
    "editable": true
   },
   "outputs": [
   ],
   "source": [
    "# Definicio de la corba i punts\n",
    "\n",
    "Zp= Zmod(p)\n",
    "E = EllipticCurve(Zp,[a,b])\n",
    "\n",
    "P = E([Px,Py])\n",
    "Q = E([Qx,Qy])"
   ]
  },
  {
   "cell_type": "code",
   "execution_count": 16,
   "metadata": {
    "deletable": true,
    "editable": true
   },
   "outputs": [
    {
     "data": {
      "text/plain": [
       "True"
      ]
     },
     "execution_count": 16,
     "metadata": {
     },
     "output_type": "execute_result"
    }
   ],
   "source": [
    "# Verificacio de la signatura\n",
    "\n",
    "inversef2 = power_mod(f2, -1, q)\n",
    "#w1 = int(hashed*inversef2%q)\n",
    "w1 = int(mSHA256*inversef2%q)\n",
    "w2 = int(f1*inversef2%q)\n",
    "verify = w1*P + w2*Q\n",
    "\n",
    "f1 == int(verify[0])%q"
   ]
  }
 ],
 "metadata": {
  "kernelspec": {
   "display_name": "SageMath (stable)",
   "name": "sagemath"
  },
  "language_info": {
   "codemirror_mode": {
    "name": "ipython",
    "version": 2
   },
   "file_extension": ".py",
   "mimetype": "text/x-python",
   "name": "python",
   "nbconvert_exporter": "python",
   "pygments_lexer": "ipython2",
   "version": "2.7.14"
  }
 },
 "nbformat": 4,
 "nbformat_minor": 0
}