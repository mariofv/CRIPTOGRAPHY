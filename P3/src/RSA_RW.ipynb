{
 "nbformat": 4, 
 "nbformat_minor": 0, 
 "cells": [
  {
   "source": [
    "from Crypto.PublicKey import RSA"
   ], 
   "cell_type": "code", 
   "metadata": {
    "collapsed": false
   }
  }, 
  {
   "source": [
    "n = \"0x00:ab:45:13:43:4f:4c:12:36:f6:e8:f5:b8:50:37:ec:3c:76:7c:57:93:0d:45:3e:81:1d:a6:e4:e8:ce:c7:0d:df:7c:a9:94:47:99:29:dc:ca:ce:f5:3f:df:96:9c:e6:8c:46:a7:03:15:c2:a0:5d:b0:d8:15:3e:49:43:6f:ff:d4:1b:f9:5e:95:5a:b3:be:ef:7a:64:3e:aa:b5:56:cc:51:4c:d2:0d:13:89:f2:13:16:e8:a6:38:b6:a5:94:50:1c:bc:b2:05:83:c7:6e:5e:5b:dd:06:5e:dc:6c:4e:4d:97:ca:ee:e4:8f:fa:2d:61:67:87:53:89:bf:15:db:7b:c2:96:b8:f5:3e:e8:52:bb:df:17:f1:13:dd:f6:ba:7f:a3:9c:8b:58:c2:87:0d:cb:0b:0d:6b:e1:c0:50:3a:68:a0:e8:13:4c:eb:7d:30:c3:b2:12:b8:12:55:ea:52:32:22:bf:ea:42:8c:a4:f5:31:f6:3b:99:a2:ef:a7:f0:f8:cc:b2:98:1b:07:8d:3a:0d:a1:4a:77:22:50:c2:7e:3f:fd:cf:d9:af:25:ba:35:b7:93:30:66:55:b3:e8:f4:f8:e3:b0:13:6a:1c:cc:be:5d:cd:a0:5d:ef:41:13:d2:73:bb:e6:4f:0e:07:41:30:da:a2:87:fb:de:6b:65:e8:93:57\"\n", 
    "\n", 
    "n = int(\"\".join(n.split(\":\")), 16)"
   ], 
   "cell_type": "code", 
   "metadata": {
    "collapsed": false
   }
  }, 
  {
   "source": [
    "p = long(132291376058009409626567911360470595783739865139306809576087051913146087580975987849914476976379577927849802624910653160128439780216398553435249260264150576534101603370978068759258196712228656876005926063172758935019043361866731586633870688864436641761054471049667708866342765408224485888486143169802637218011)\n", 
    "q = n/p"
   ], 
   "cell_type": "code", 
   "metadata": {
    "collapsed": false
   }
  }, 
  {
   "source": [
    "phi = euler_phi(p)*euler_phi(q) # Computation of phi(n)"
   ], 
   "cell_type": "code", 
   "metadata": {
    "collapsed": false
   }
  }, 
  {
   "source": [
    "e = 65537\n", 
    "d = e.inverse_mod(phi) # Computation of private key"
   ], 
   "cell_type": "code", 
   "metadata": {
    "collapsed": false
   }
  }, 
  {
   "source": [
    "privateKey = RSA.construct((n, long(e), long(d)))\n", 
    "\n", 
    "privateKey.exportKey()"
   ], 
   "cell_type": "code", 
   "metadata": {
    "collapsed": false
   }
  }
 ], 
 "metadata": {
  "kernelspec": {
   "display_name": "SageMath", 
   "name": "sagemath", 
   "language": "python"
  }, 
  "language_info": {
   "mimetype": "text/x-python", 
   "nbconvert_exporter": "python", 
   "name": "python", 
   "file_extension": ".py", 
   "version": "2.7.12+", 
   "pygments_lexer": "ipython2", 
   "codemirror_mode": {
    "version": 2, 
    "name": "ipython"
   }
  }
 }
}